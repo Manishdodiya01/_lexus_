{
 "cells": [
  {
   "cell_type": "markdown",
   "id": "a4dfc8eb-2076-4f7c-a09c-6cc7cc35b837",
   "metadata": {
    "jp-MarkdownHeadingCollapsed": true,
    "tags": []
   },
   "source": [
    "### Q1, Create a vehicle class with an init method having instance variables as name_of_vehicle, max_speed\n",
    "and average_of_vehicle."
   ]
  },
  {
   "cell_type": "code",
   "execution_count": 6,
   "id": "227d6647-40f8-47a4-a881-93276876e0b6",
   "metadata": {},
   "outputs": [],
   "source": [
    "class vehicle :\n",
    "    \n",
    "    def __init__(self,name_of_vehicle , max_speed,average_of_vehicle):\n",
    "        self.name_of_vehicle = name_of_vehicle\n",
    "        self.max_speed = max_speed\n",
    "        self.average_of_vehicle = average_of_vehicle\n",
    "        \n",
    "    def return_vehicle(self):\n",
    "        return self.name_of_vehicle , self.max_speed , self.average_of_vehicle\n",
    "    "
   ]
  },
  {
   "cell_type": "code",
   "execution_count": 7,
   "id": "1b290baf-d206-4965-af72-baa0acf1389c",
   "metadata": {},
   "outputs": [],
   "source": [
    "car = vehicle(\"thar\" , 120 , 49)"
   ]
  },
  {
   "cell_type": "code",
   "execution_count": 8,
   "id": "f76e2678-18a2-4b9c-af96-c640d8edba11",
   "metadata": {},
   "outputs": [
    {
     "data": {
      "text/plain": [
       "'thar'"
      ]
     },
     "execution_count": 8,
     "metadata": {},
     "output_type": "execute_result"
    }
   ],
   "source": [
    "car.name_of_vehicle"
   ]
  },
  {
   "cell_type": "code",
   "execution_count": 9,
   "id": "278536a0-0f4a-461a-9940-869e3f3c8d9f",
   "metadata": {},
   "outputs": [
    {
     "data": {
      "text/plain": [
       "120"
      ]
     },
     "execution_count": 9,
     "metadata": {},
     "output_type": "execute_result"
    }
   ],
   "source": [
    "car.max_speed"
   ]
  },
  {
   "cell_type": "code",
   "execution_count": 10,
   "id": "72d5bc7f-7cb1-4d31-a369-15032d0489d7",
   "metadata": {},
   "outputs": [
    {
     "data": {
      "text/plain": [
       "49"
      ]
     },
     "execution_count": 10,
     "metadata": {},
     "output_type": "execute_result"
    }
   ],
   "source": [
    "car.average_of_vehicle"
   ]
  },
  {
   "cell_type": "markdown",
   "id": "74b0881f-dea5-41f1-8376-9d3cc813ad75",
   "metadata": {
    "jp-MarkdownHeadingCollapsed": true,
    "tags": []
   },
   "source": [
    "### Q2. Create a child class car from the vehicle class created in Que 1, which will inherit the vehicle class.\n",
    "Create a method named seating_capacity which takes capacity as an argument and returns the name of\n",
    "the vehicle and its seating capacity."
   ]
  },
  {
   "cell_type": "code",
   "execution_count": 21,
   "id": "008a5b30-45e5-455c-aa1f-27dbefc220bb",
   "metadata": {},
   "outputs": [],
   "source": [
    "class car(vehicle):\n",
    "    def seating_capacity(self,capacity):\n",
    "        return capacity"
   ]
  },
  {
   "cell_type": "code",
   "execution_count": 22,
   "id": "d566eacc-402d-48e1-bb3d-9c05bca0fcb4",
   "metadata": {},
   "outputs": [],
   "source": [
    "car = car(\"thar\" , 120 , 49)"
   ]
  },
  {
   "cell_type": "code",
   "execution_count": 23,
   "id": "82042e33-2e49-448d-ad94-6aca5aa7fb08",
   "metadata": {},
   "outputs": [
    {
     "data": {
      "text/plain": [
       "4"
      ]
     },
     "execution_count": 23,
     "metadata": {},
     "output_type": "execute_result"
    }
   ],
   "source": [
    "car.seating_capacity(4)"
   ]
  },
  {
   "cell_type": "markdown",
   "id": "199bffdb-c4a3-445a-a1ae-ac825abc2cd7",
   "metadata": {
    "jp-MarkdownHeadingCollapsed": true,
    "tags": []
   },
   "source": [
    "#  Q3. What is multiple inheritance? Write a python code to demonstrate multiple inheritance."
   ]
  },
  {
   "cell_type": "markdown",
   "id": "e6eecbe8-9cca-4b5e-82b9-4f82f3bb21d0",
   "metadata": {},
   "source": [
    "Multiple inheritance is a feature in object-oriented programming where a class can inherit attributes and methods from multiple parent classes. This means that a child class can inherit from more than one parent class, combining their functionalities."
   ]
  },
  {
   "cell_type": "code",
   "execution_count": 62,
   "id": "3f3ad2b4-09f4-4490-95b4-630704d7f92a",
   "metadata": {},
   "outputs": [],
   "source": [
    "class name_data:\n",
    "    def name_data(self):\n",
    "        print(\"jayesh\")"
   ]
  },
  {
   "cell_type": "code",
   "execution_count": 63,
   "id": "5a7cc357-f3fb-4b26-90e9-f1413bd6c5bf",
   "metadata": {},
   "outputs": [],
   "source": [
    "class age_data:\n",
    "    def age_data(self):\n",
    "        print(18)"
   ]
  },
  {
   "cell_type": "code",
   "execution_count": 64,
   "id": "c8017d51-67b6-4845-8b30-bece7317d439",
   "metadata": {},
   "outputs": [],
   "source": [
    "class collect(name_data , age_data):\n",
    "    pass"
   ]
  },
  {
   "cell_type": "code",
   "execution_count": 66,
   "id": "ef4e9860-76c8-4c71-b026-3928d0ce4fbd",
   "metadata": {},
   "outputs": [],
   "source": [
    "obj_for = collect()"
   ]
  },
  {
   "cell_type": "code",
   "execution_count": 68,
   "id": "0a4af597-0414-4e5e-a1dd-111d068841ba",
   "metadata": {},
   "outputs": [
    {
     "name": "stdout",
     "output_type": "stream",
     "text": [
      "18\n"
     ]
    }
   ],
   "source": [
    "obj_for.age_data()"
   ]
  },
  {
   "cell_type": "code",
   "execution_count": 69,
   "id": "4f5850ad-dcb1-4d60-a6e5-76329bb319f1",
   "metadata": {},
   "outputs": [
    {
     "name": "stdout",
     "output_type": "stream",
     "text": [
      "jayesh\n"
     ]
    }
   ],
   "source": [
    "obj_for.name_data()"
   ]
  },
  {
   "cell_type": "markdown",
   "id": "c8145a3a-e6d3-4825-ad59-4ba320f3bf1a",
   "metadata": {
    "jp-MarkdownHeadingCollapsed": true,
    "tags": []
   },
   "source": [
    "#      Q4. What are getter and setter in python? Create a class and create a getter and a setter method in this\n",
    "class."
   ]
  },
  {
   "cell_type": "markdown",
   "id": "a37d0fbc-0cd4-43d3-9103-c315cd1dfb45",
   "metadata": {},
   "source": [
    "In Python, getters and setters are methods used to access and modify the values of class attributes or properties. They provide a way to encapsulate the internal state of an object and control how it can be accessed or modified from outside the class.\n",
    "\n"
   ]
  },
  {
   "cell_type": "code",
   "execution_count": 1,
   "id": "4571a7e3-acac-4293-99dc-cdf1ac33e94b",
   "metadata": {},
   "outputs": [],
   "source": [
    "class Person:\n",
    "    def __init__(self, name):\n",
    "        self._name = name\n",
    "\n",
    "    def get_name(self):\n",
    "        return self._name\n",
    "\n",
    "    def set_name(self, new_name):\n",
    "        self._name = new_name\n"
   ]
  },
  {
   "cell_type": "code",
   "execution_count": 11,
   "id": "a1dbf305-7bb2-4ec6-9eeb-f5a5d19ac4f0",
   "metadata": {},
   "outputs": [
    {
     "name": "stdout",
     "output_type": "stream",
     "text": [
      "John\n"
     ]
    }
   ],
   "source": [
    "person = Person(\"John\")\n",
    "print(person.get_name())"
   ]
  },
  {
   "cell_type": "code",
   "execution_count": 12,
   "id": "ed3386fb-a3d5-4522-b4df-a8b031fd27f1",
   "metadata": {},
   "outputs": [],
   "source": [
    "person.set_name(\"john sina\")"
   ]
  },
  {
   "cell_type": "code",
   "execution_count": 14,
   "id": "24013af3-59e8-4787-bc26-a22d998a54ec",
   "metadata": {},
   "outputs": [
    {
     "data": {
      "text/plain": [
       "'john sina'"
      ]
     },
     "execution_count": 14,
     "metadata": {},
     "output_type": "execute_result"
    }
   ],
   "source": [
    "person.get_name()"
   ]
  },
  {
   "cell_type": "markdown",
   "id": "46e4705e-f57d-4dba-a0bb-72643ab39ba0",
   "metadata": {},
   "source": [
    "#    Q5.What is method overriding in python? Write a python code to demonstrate method overriding."
   ]
  },
  {
   "cell_type": "markdown",
   "id": "153ba429-1bca-428d-9263-f68a2ceb9f05",
   "metadata": {},
   "source": [
    "Method overriding is a concept in object-oriented programming where a subclass provides its own implementation of a method that is already defined in its parent class. It allows the subclass to modify or extend the behavior of the inherited method."
   ]
  },
  {
   "cell_type": "code",
   "execution_count": 1,
   "id": "0572858a-461e-41bd-bfb5-0dac60f48ca3",
   "metadata": {},
   "outputs": [],
   "source": [
    "class Vehicle:\n",
    "    def drive(self):\n",
    "        print(\"Driving a vehicle...\")\n",
    "\n",
    "\n",
    "class Car(Vehicle):\n",
    "    def drive(self):\n",
    "        print(\"Driving a car...\")"
   ]
  },
  {
   "cell_type": "code",
   "execution_count": 6,
   "id": "33961340-f93c-4373-b188-d0b2761244c2",
   "metadata": {},
   "outputs": [],
   "source": [
    "vehicle_obj = vehicle"
   ]
  },
  {
   "cell_type": "code",
   "execution_count": 7,
   "id": "46bdf306-bd7e-4565-b848-b10a10bdc58a",
   "metadata": {},
   "outputs": [],
   "source": [
    "car_obj = car"
   ]
  },
  {
   "cell_type": "code",
   "execution_count": 9,
   "id": "854f7310-afc5-4bb3-b2b8-4d622f9e5144",
   "metadata": {},
   "outputs": [
    {
     "name": "stdout",
     "output_type": "stream",
     "text": [
      "Driving a vehicle...\n"
     ]
    }
   ],
   "source": [
    "vehicle_obj.drive()"
   ]
  },
  {
   "cell_type": "code",
   "execution_count": null,
   "id": "1cac2bf1-b69c-4439-8f71-60963609c44c",
   "metadata": {},
   "outputs": [],
   "source": [
    "car_obj.drive"
   ]
  }
 ],
 "metadata": {
  "kernelspec": {
   "display_name": "Python 3 (ipykernel)",
   "language": "python",
   "name": "python3"
  },
  "language_info": {
   "codemirror_mode": {
    "name": "ipython",
    "version": 3
   },
   "file_extension": ".py",
   "mimetype": "text/x-python",
   "name": "python",
   "nbconvert_exporter": "python",
   "pygments_lexer": "ipython3",
   "version": "3.10.8"
  }
 },
 "nbformat": 4,
 "nbformat_minor": 5
}
